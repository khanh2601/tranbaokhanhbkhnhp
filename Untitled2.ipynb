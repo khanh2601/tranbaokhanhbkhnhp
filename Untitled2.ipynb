{
  "nbformat": 4,
  "nbformat_minor": 0,
  "metadata": {
    "colab": {
      "name": "Untitled2.ipynb",
      "provenance": [],
      "authorship_tag": "ABX9TyPHcKzVj73z4sPtE1Atm2Ty",
      "include_colab_link": true
    },
    "kernelspec": {
      "name": "python3",
      "display_name": "Python 3"
    }
  },
  "cells": [
    {
      "cell_type": "markdown",
      "metadata": {
        "id": "view-in-github",
        "colab_type": "text"
      },
      "source": [
        "<a href=\"https://colab.research.google.com/github/khanh2601/tranbaokhanhbkhnhp/blob/master/Untitled2.ipynb\" target=\"_parent\"><img src=\"https://colab.research.google.com/assets/colab-badge.svg\" alt=\"Open In Colab\"/></a>"
      ]
    },
    {
      "cell_type": "code",
      "metadata": {
        "id": "d2lDNOB5yHQ8",
        "colab_type": "code",
        "colab": {}
      },
      "source": [
        "def translational_jacobian(q1,q2,q3,q4,q5,q6):\n",
        "  q1 = Symbol('q1')\n",
        "  q2 = Symbol('q2')\n",
        "  q3 = Symbol('q3')\n",
        "  q4 = Symbol('q4')\n",
        "  q5 = Symbol('q5')\n",
        "  q6 = Symbol('q6')\n",
        "\n",
        "  jt1 = Matrix([[r1.diff(q1)],\n",
        "                [r1.diff(q2)],\n",
        "                [r1.diff(q3)],\n",
        "                [r1.diff(q4)],\n",
        "                [r1.diff(q5)],\n",
        "                [r1.diff(q6)]])\n",
        "  jt2 = Matrix([[r2.diff(q1)],\n",
        "                [r2.diff(q2)],\n",
        "                [r2.diff(q3)],\n",
        "                [r2.diff(q4)],\n",
        "                [r2.diff(q5)],\n",
        "                [r2.diff(q6)]])\n",
        "  jt3 = Matrix([[r3.diff(q1)],\n",
        "                [r3.diff(q2)],\n",
        "                [r3.diff(q3)],\n",
        "                [r3.diff(q4)],\n",
        "                [r3.diff(q5)],\n",
        "                [r3.diff(q6)]])\n",
        "  jt4 = Matrix([[r4.diff(q1)],\n",
        "                [r4.diff(q2)],\n",
        "                [r4.diff(q3)],\n",
        "                [r4.diff(q4)],\n",
        "                [r4.diff(q5)],\n",
        "                [r4.diff(q6)]])\n",
        "  jt5 = Matrix([[r5.diff(q1)],\n",
        "                [r5.diff(q2)],\n",
        "                [r5.diff(q3)],\n",
        "                [r5.diff(q4)],\n",
        "                [r5.diff(q5)],\n",
        "                [r5.diff(q6)]])\n",
        "  jt6 = Matrix([[r6.diff(q1)],\n",
        "                [r6.diff(q2)],\n",
        "                [r6.diff(q3)],\n",
        "                [r6.diff(q4)],\n",
        "                [r6.diff(q5)],\n",
        "                [r6.diff(q6)]])\n",
        "  \n",
        "  jt1 = jt1.transpose()\n",
        "  jt2 = jt2.transpose()\n",
        "  jt3 = jt3.transpose()\n",
        "  jt4 = jt4.transpose()\n",
        "  jt5 = jt5.transpose()\n",
        "  jt6 = jt6.transpose()\n",
        "\n",
        "  jt1 = jt1.np.asmatrix()\n",
        "  jt2 = jt2.np.asmatrix()\n",
        "  jt3 = jt3.np.asmatrix()\n",
        "  jt4 = jt4.np.asmatrix()\n",
        "  jt5 = jt5.np.asmatrix()\n",
        "  jt6 = jt6.np.asmatrix()\n",
        "  \n",
        "  return jt1,jt2,jt3,jt4,jt5,jt6"
      ],
      "execution_count": null,
      "outputs": []
    }
  ]
}