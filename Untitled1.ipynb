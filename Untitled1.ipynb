{
  "nbformat": 4,
  "nbformat_minor": 0,
  "metadata": {
    "colab": {
      "name": "Untitled1.ipynb",
      "provenance": [],
      "collapsed_sections": [],
      "authorship_tag": "ABX9TyPQlVHy1g9BrrocYP++IqxD",
      "include_colab_link": true
    },
    "kernelspec": {
      "name": "python3",
      "display_name": "Python 3"
    }
  },
  "cells": [
    {
      "cell_type": "markdown",
      "metadata": {
        "id": "view-in-github",
        "colab_type": "text"
      },
      "source": [
        "<a href=\"https://colab.research.google.com/github/khanh2601/tranbaokhanhbkhnhp/blob/master/Untitled1.ipynb\" target=\"_parent\"><img src=\"https://colab.research.google.com/assets/colab-badge.svg\" alt=\"Open In Colab\"/></a>"
      ]
    },
    {
      "cell_type": "code",
      "metadata": {
        "id": "J50pSF0Gouho",
        "colab_type": "code",
        "colab": {
          "base_uri": "https://localhost:8080/",
          "height": 363
        },
        "outputId": "6ccb0f23-ed4e-4e1a-94b0-cb4a3a0fd7b3"
      },
      "source": [
        "\"\"\"\n",
        "Snap7 client used for connection to a siemens7 server.\n",
        "\"\"\"\n",
        "import re\n",
        "from ctypes import c_int, c_char_p, byref, sizeof, c_uint16, c_int32, c_byte\n",
        "from ctypes import c_void_p\n",
        "from datetime import datetime\n",
        "\n",
        "import logging\n",
        "\n",
        "import snap7\n",
        "from snap7 import six\n",
        "from snap7.snap7types import S7Object, buffer_type, buffer_size, BlocksList\n",
        "from snap7.snap7types import TS7BlockInfo, param_types, cpu_statuses\n",
        "\n",
        "from snap7.common import check_error, load_library, ipv4\n",
        "from snap7.snap7exceptions import Snap7Exception\n",
        "\n",
        "logger = logging.getLogger(__name__)\n",
        "\n",
        "def error_wrap(func):\n",
        "    \"\"\"Parses a s7 error code returned the decorated function.\"\"\"\n",
        "    def f(*args, **kw):\n",
        "        code = func(*args, **kw)\n",
        "        check_error(code, context=\"client\")\n",
        "    return f\n",
        "\n",
        "\n",
        "class Client(object):\n",
        "    \"\"\"\n",
        "    A snap7 client\n",
        "    \"\"\"\n",
        "    pointer = None\n",
        "    library = None\n",
        "#Read from PLC\n",
        "    def ab_read(self, start, size):\n",
        "        \"\"\"\n",
        "        This is a lean function of Cli_ReadArea() to read PLC process outputs.\n",
        "        \"\"\"\n",
        "        wordlen = snap7.snap7types.S7WLByte\n",
        "        type_ = snap7.snap7types.wordlen_to_ctypes[wordlen]\n",
        "        data = (type_ * size)()\n",
        "        logger.debug(\"ab_read: start: %s: size %s: \" % (start, size))\n",
        "        result = self.library.Cli_ABRead(self.pointer, start, size,\n",
        "                                         byref(data))\n",
        "        check_error(result, context=\"client\")\n",
        "        return bytearray(data)\n",
        "#Write to PLC\n",
        "    def as_ab_write(self, start, data):\n",
        "        \"\"\"\n",
        "        This is the asynchronous counterpart of Cli_ABWrite.\n",
        "        \"\"\"\n",
        "        wordlen = snap7.snap7types.S7WLByte\n",
        "        type_ = snap7.snap7types.wordlen_to_ctypes[wordlen]\n",
        "        size = len(data)\n",
        "        cdata = (type_ * size).from_buffer_copy(data)\n",
        "        logger.debug(\"ab write: start: %s: size: %s: \" % (start, size))\n",
        "        return self.library.Cli_AsABWrite(\n",
        "            self.pointer, start, size, byref(cdata))"
      ],
      "execution_count": 1,
      "outputs": [
        {
          "output_type": "error",
          "ename": "ModuleNotFoundError",
          "evalue": "ignored",
          "traceback": [
            "\u001b[0;31m---------------------------------------------------------------------------\u001b[0m",
            "\u001b[0;31mModuleNotFoundError\u001b[0m                       Traceback (most recent call last)",
            "\u001b[0;32m<ipython-input-1-9a57d3bc4612>\u001b[0m in \u001b[0;36m<module>\u001b[0;34m()\u001b[0m\n\u001b[0;32m----> 1\u001b[0;31m \u001b[0;32mimport\u001b[0m \u001b[0msnap7\u001b[0m\u001b[0;34m.\u001b[0m\u001b[0mclient\u001b[0m \u001b[0;32mas\u001b[0m \u001b[0mc\u001b[0m\u001b[0;34m\u001b[0m\u001b[0;34m\u001b[0m\u001b[0m\n\u001b[0m\u001b[1;32m      2\u001b[0m \u001b[0;32mfrom\u001b[0m \u001b[0msnap7\u001b[0m\u001b[0;34m.\u001b[0m\u001b[0mutil\u001b[0m \u001b[0;32mimport\u001b[0m \u001b[0;34m*\u001b[0m\u001b[0;34m\u001b[0m\u001b[0;34m\u001b[0m\u001b[0m\n\u001b[1;32m      3\u001b[0m \u001b[0;34m\u001b[0m\u001b[0m\n\u001b[1;32m      4\u001b[0m \u001b[0;32mdef\u001b[0m \u001b[0mWriteOutput\u001b[0m\u001b[0;34m(\u001b[0m\u001b[0mdev\u001b[0m\u001b[0;34m,\u001b[0m\u001b[0mbyte\u001b[0m\u001b[0;34m,\u001b[0m\u001b[0mbit\u001b[0m\u001b[0;34m,\u001b[0m\u001b[0mcmd\u001b[0m\u001b[0;34m)\u001b[0m\u001b[0;34m:\u001b[0m\u001b[0;34m\u001b[0m\u001b[0;34m\u001b[0m\u001b[0m\n\u001b[1;32m      5\u001b[0m   \u001b[0mdata\u001b[0m \u001b[0;34m=\u001b[0m \u001b[0mdev\u001b[0m\u001b[0;34m.\u001b[0m\u001b[0mread_area\u001b[0m\u001b[0;34m(\u001b[0m\u001b[0;36m0x82\u001b[0m\u001b[0;34m,\u001b[0m\u001b[0;36m0\u001b[0m\u001b[0;34m,\u001b[0m\u001b[0mbyte\u001b[0m\u001b[0;34m,\u001b[0m\u001b[0;36m1\u001b[0m\u001b[0;34m)\u001b[0m\u001b[0;34m\u001b[0m\u001b[0;34m\u001b[0m\u001b[0m\n",
            "\u001b[0;31mModuleNotFoundError\u001b[0m: No module named 'snap7'",
            "",
            "\u001b[0;31m---------------------------------------------------------------------------\u001b[0;32m\nNOTE: If your import is failing due to a missing package, you can\nmanually install dependencies using either !pip or !apt.\n\nTo view examples of installing some common dependencies, click the\n\"Open Examples\" button below.\n\u001b[0;31m---------------------------------------------------------------------------\u001b[0m\n"
          ]
        }
      ]
    }
  ]
}