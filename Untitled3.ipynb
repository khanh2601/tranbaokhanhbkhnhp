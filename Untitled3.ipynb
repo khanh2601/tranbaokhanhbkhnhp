{
  "nbformat": 4,
  "nbformat_minor": 0,
  "metadata": {
    "colab": {
      "name": "Untitled3.ipynb",
      "provenance": [],
      "collapsed_sections": [],
      "authorship_tag": "ABX9TyOGfuPmLWOWUDUxoSlYWaz+",
      "include_colab_link": true
    },
    "kernelspec": {
      "name": "python3",
      "display_name": "Python 3"
    }
  },
  "cells": [
    {
      "cell_type": "markdown",
      "metadata": {
        "id": "view-in-github",
        "colab_type": "text"
      },
      "source": [
        "<a href=\"https://colab.research.google.com/github/khanh2601/tranbaokhanhbkhnhp/blob/master/Untitled3.ipynb\" target=\"_parent\"><img src=\"https://colab.research.google.com/assets/colab-badge.svg\" alt=\"Open In Colab\"/></a>"
      ]
    },
    {
      "cell_type": "code",
      "metadata": {
        "id": "4hW7792jyuaa",
        "colab_type": "code",
        "colab": {}
      },
      "source": [
        "def get_angles(x, y, z, alpha, beta, gamma):\n",
        "    \n",
        "  gripper_point = x, y, z\n",
        "\n",
        "  q1, q2, q3, q4, q5, q6 = symbols('q1:7')\n",
        "  alpha, beta, gamma = symbols('alpha beta gamma', real = True)\n",
        "  px, py, pz = symbols('px py pz', real = True)\n",
        "\n",
        "\n",
        "  R03 = Matrix([\n",
        "    [cos(q2 + q3)*cos(q1),  sin(q1), cos(q1)*sin(q2 + q3)],\n",
        "    [sin(q1)*cos(q2 + q3), -cos(q1), sin(q1)*sin(q2 + q3)],\n",
        "    [        sin(q2 + q3),        0,        -cos(q2 + q3)]])\n",
        "\n",
        "  \n",
        "  R03T = Matrix([\n",
        "    [cos(q2 + q3)*cos(q1), sin(q1)*cos(q2 + q3),  sin(q2 + q3)],\n",
        "    [             sin(q1),             -cos(q1),             0],\n",
        "    [cos(q1)*sin(q2 + q3), sin(q1)*sin(q2 + q3), -cos(q2 + q3)]])\n",
        "\n",
        " \n",
        "  R36 = Matrix([\n",
        "    [-sin(q4)*sin(q6) + cos(q4)*cos(q5)*cos(q6), -sin(q4)*cos(q6) - sin(q6)*cos(q4)*cos(q5), sin(q5)*cos(q4)],\n",
        "    [ sin(q4)*cos(q5)*cos(q6) + sin(q6)*cos(q4), -sin(q4)*sin(q6)*cos(q5) + cos(q4)*cos(q6), sin(q4)*sin(q5)],\n",
        "    [                          -sin(q5)*cos(q6),                            sin(q5)*sin(q6),         cos(q5)]])\n",
        "\n",
        "  \n",
        "  R0u = Matrix([\n",
        "    [                                    cos(beta)*cos(gamma),                                    -cos(beta)*sin(gamma),             sin(beta)],\n",
        "    [ sin(alpha)*sin(beta)*cos(gamma) + sin(gamma)*cos(alpha), -sin(alpha)*sin(beta)*sin(gamma) + cos(alpha)*cos(gamma), -sin(alpha)*cos(beta)],\n",
        "    [-cos(alpha)*sin(beta)*cos(gamma) + sin(alpha)*sin(gamma),  cos(alpha)*sin(beta)*sin(gamma) + sin(alpha)*cos(gamma),  cos(alpha)*cos(beta)]])\n",
        "\n",
        "\n",
        "  T0g_b = Matrix([\n",
        "    [                                    cos(beta)*cos(gamma),  -cos(beta)*sin(gamma),                                               sin(beta), px],\n",
        "    [ sin(alpha)*sin(beta)*cos(gamma) + sin(gamma)*cos(alpha), -sin(alpha)*sin(beta)*sin(gamma) + cos(alpha)*cos(gamma), -sin(alpha)*cos(beta), py],\n",
        "    [-cos(alpha)*sin(beta)*cos(gamma) + sin(alpha)*sin(gamma),  cos(alpha)*sin(beta)*sin(gamma) + sin(alpha)*cos(gamma),  cos(alpha)*cos(beta), pz],\n",
        "    [                                                       0,                                                        0,                     0,  1]])\n",
        "\n",
        "\n",
        "\n",
        "  R0u_eval = R0u.evalf(subs = {alpha: alpha, beta: beta, gamma: gamma})\n",
        "\n",
        "  R0g_eval = R0u_eval\n",
        "\n",
        "  wrist_center = get_wrist_center(gripper_point, R0g_eval, dg = 0.303) #Need to prepare dg\n",
        "\n",
        "  j1, j2, j3 = get_first_three_angles(wrist_center)\n",
        "\n",
        "  R03T_eval = R03T.evalf(subs = {q1: j1.evalf(), q2: j2.evalf(), q3: j3.evalf()})\n",
        "  R36_eval = R03T_eval * R0g_eval\n",
        "\n",
        "  j4, j5, j6 = get_last_three_angles(R36_eval)\n",
        "\n",
        "  j1 = j1.evalf()\n",
        "  j2 = j2.evalf()\n",
        "  j3 = j3.evalf()\n",
        "  j4 = j4.evalf()\n",
        "  j5 = j5.evalf()\n",
        "  j6 = j6.evalf()\n",
        "\n",
        "  return j1, j2, j3, j4, j5, j6"
      ],
      "execution_count": null,
      "outputs": []
    }
  ]
}