{
  "nbformat": 4,
  "nbformat_minor": 0,
  "metadata": {
    "colab": {
      "name": "Động học Robot.ipynb",
      "provenance": [],
      "collapsed_sections": [],
      "authorship_tag": "ABX9TyMb9xHQCG+w5reNnxht/ui3",
      "include_colab_link": true
    },
    "kernelspec": {
      "name": "python3",
      "display_name": "Python 3"
    }
  },
  "cells": [
    {
      "cell_type": "markdown",
      "metadata": {
        "id": "view-in-github",
        "colab_type": "text"
      },
      "source": [
        "<a href=\"https://colab.research.google.com/github/khanh2601/tranbaokhanhbkhnhp/blob/master/%C4%90%E1%BB%99ng_h%E1%BB%8Dc_Robot.ipynb\" target=\"_parent\"><img src=\"https://colab.research.google.com/assets/colab-badge.svg\" alt=\"Open In Colab\"/></a>"
      ]
    },
    {
      "cell_type": "markdown",
      "metadata": {
        "id": "xNvPrr3Ft98q",
        "colab_type": "text"
      },
      "source": [
        "# **Động học Robot**"
      ]
    },
    {
      "cell_type": "code",
      "metadata": {
        "id": "JFFcZGGhuCCg",
        "colab_type": "code",
        "colab": {}
      },
      "source": [
        "from sympy import symbols, cos, sin, pi, simplify, pprint, tan, expand_trig, sqrt, trigsimp, atan2\n",
        "from sympy.matrices import Matrix\n",
        "from mpl_toolkits.mplot3d import Axes3D\n",
        "import matplotlib.pyplot as plt\n",
        "import time\n",
        "import numpy as np"
      ],
      "execution_count": null,
      "outputs": []
    },
    {
      "cell_type": "code",
      "metadata": {
        "id": "wcQu0wxFwbqM",
        "colab_type": "code",
        "colab": {}
      },
      "source": [
        "def pose(theta, alpha, a, d):\n",
        "\n",
        "  r11 = cos(theta)\n",
        "  r12 = -sin(theta) * cos(alpha)\n",
        "  r13 = sin(theta) * sin(alpha)\n",
        "  r21 = sin(theta)\n",
        "  r22 = cos(theta) * cos(alpha)\n",
        "  r23 = - sin(alpha) * cos(theta)\n",
        "  r32 = sin(alpha)\n",
        "  r33 = cos(alpha) \n",
        "  x = a * cos(theta)\n",
        "  y = a * sin(theta)\n",
        "  z = d \n",
        "\n",
        "  T = Matrix([\n",
        "    [r11, r12, r13, x],\n",
        "    [r21, r22, r23, y],\n",
        "    [0.0, r32, r33, z],\n",
        "    [0.0, 0.0, 0.0, 1]\n",
        "  ])\n",
        "  \n",
        "  T = simplify(T)\n",
        "\n",
        "  return T"
      ],
      "execution_count": null,
      "outputs": []
    },
    {
      "cell_type": "code",
      "metadata": {
        "id": "KiMg26Au2Dyj",
        "colab_type": "code",
        "colab": {}
      },
      "source": [
        "def forward_kin(q1,q2,q3,q4,q5,q6):\n",
        "  X = []\n",
        "  Y = []\n",
        "  Z = []\n",
        "  d90 = pi/2\n",
        "  T01 = pose(q1, d90, a1, d1)\n",
        "  T0g = T01\n",
        "  px,py,pz = T0g[0,3], T0g[1,3], T0g[2,3]\n",
        "  X.append(px)\n",
        "  Y.append(py)\n",
        "  Z.append(pz)\n",
        "  T12 = pose(q2, 0, a2, 0)\n",
        "  T0g = T0g* T12\n",
        "  px,py,pz = T0g[0,3], T0g[1,3], T0g[2,3]\n",
        "  X.append(px)\n",
        "  Y.append(py)\n",
        "  Z.append(pz)\n",
        "  T23 = pose(q3, d90, a3, 0)\n",
        "  T0g = T0g* T23\n",
        "  px,py,pz = T0g[0,3], T0g[1,3], T0g[2,3]\n",
        "  X.append(px)\n",
        "  Y.append(py)\n",
        "  Z.append(pz)\n",
        "  T34 = pose(q4, -d90, 0, d4)\n",
        "  T0g = T0g* T34\n",
        "  px,py,pz = T0g[0,3], T0g[1,3], T0g[2,3]\n",
        "  X.append(px)\n",
        "  Y.append(py)\n",
        "  Z.append(pz)\n",
        "  T45 = pose(q5, d90, 0, 0)\n",
        "  T0g = T0g* T45\n",
        "  px,py,pz = T0g[0,3], T0g[1,3], T0g[2,3]\n",
        "  X.append(px)\n",
        "  Y.append(py)\n",
        "  Z.append(pz)\n",
        "  T56 = pose(q6, 0, 0, 0)\n",
        "  T0g = T0g* T56\n",
        "  A06 = T0g\n",
        "  px,py,pz = T0g[0,3], T0g[1,3], T0g[2,3]\n",
        "  X.append(px)\n",
        "  Y.append(py)\n",
        "  Z.append(pz)\n",
        "  T6g = pose(0, 0, 0, 0.303)\n",
        "  #final position and rotation\n",
        "  T0g = T0g* T6g\n",
        "  px,py,pz = T0g[0,3], T0g[1,3], T0g[2,3]\n",
        "  X.append(px)\n",
        "  Y.append(py)\n",
        "  Z.append(pz)\n",
        "  #fig = plt.figure()\n",
        "  #ax = fig.add_subplot(111,projection = '3d')\n",
        "  #ax.set_xlabel('x axis')\n",
        "  #ax.set_ylabel('y axis')\n",
        "  #ax.set_zlabel('z axis')\n",
        "  \n",
        "  X = np.reshape(X,(1,7))\n",
        "  Y = np.reshape(Y,(1,7))\n",
        "  Z = np.reshape(Z,(1,7))\n",
        "\n",
        "  return X,Y,Z"
      ],
      "execution_count": null,
      "outputs": []
    },
    {
      "cell_type": "code",
      "metadata": {
        "id": "nXNZV_os9gQl",
        "colab_type": "code",
        "colab": {}
      },
      "source": [
        "#------------  Rotation Matrix and Euler Angles -----------\n",
        "# Calculates Rotation Matrix given euler angles.\n",
        "def eulerAnglesToRotationMatrix(theta) :\n",
        "     \n",
        "    R_x = np.array([[1,         0,                  0                   ],\n",
        "                    [0,         math.cos(theta[0]), -math.sin(theta[0]) ],\n",
        "                    [0,         math.sin(theta[0]), math.cos(theta[0])  ]\n",
        "                    ])\n",
        "         \n",
        "         \n",
        "                     \n",
        "    R_y = np.array([[math.cos(theta[1]),    0,      math.sin(theta[1])  ],\n",
        "                    [0,                     1,      0                   ],\n",
        "                    [-math.sin(theta[1]),   0,      math.cos(theta[1])  ]\n",
        "                    ])\n",
        "                 \n",
        "    R_z = np.array([[math.cos(theta[2]),    -math.sin(theta[2]),    0],\n",
        "                    [math.sin(theta[2]),    math.cos(theta[2]),     0],\n",
        "                    [0,                     0,                      1]\n",
        "                    ])\n",
        "                     \n",
        "                     \n",
        "    R = np.dot(R_z, np.dot( R_y, R_x ))\n",
        " \n",
        "    return R"
      ],
      "execution_count": null,
      "outputs": []
    },
    {
      "cell_type": "code",
      "metadata": {
        "id": "KCVSivqnHHna",
        "colab_type": "code",
        "colab": {}
      },
      "source": [
        "# Checks if a matrix is a valid rotation matrix.\n",
        "# def isRotationMatrix(R) :\n",
        "#     Rt = np.transpose(R)\n",
        "#     shouldBeIdentity = np.dot(Rt, R)\n",
        "#     I = np.identity(3, dtype = R.dtype)\n",
        "#     n = np.linalg.norm(I - shouldBeIdentity)\n",
        "#     return n < 1e-6"
      ],
      "execution_count": null,
      "outputs": []
    },
    {
      "cell_type": "code",
      "metadata": {
        "id": "v9hFmzqXaTvc",
        "colab_type": "code",
        "colab": {}
      },
      "source": [
        "# def rotationMatrixToEulerAngles(R) :\n",
        " \n",
        "#     assert(isRotationMatrix(R))\n",
        "     \n",
        "#     sy = math.sqrt(R[0,0] * R[0,0] +  R[1,0] * R[1,0])\n",
        "     \n",
        "#     singular = sy < 1e-6\n",
        " \n",
        "#     if  not singular :\n",
        "#         x = math.atan2(R[2,1] , R[2,2])\n",
        "#         y = math.atan2(-R[2,0], sy)\n",
        "#         z = math.atan2(R[1,0], R[0,0])\n",
        "#     else :\n",
        "#         x = math.atan2(-R[1,2], R[1,1])\n",
        "#         y = math.atan2(-R[2,0], sy)\n",
        "#         z = 0\n",
        " \n",
        "#     return np.array([x, y, z])"
      ],
      "execution_count": null,
      "outputs": []
    },
    {
      "cell_type": "code",
      "metadata": {
        "id": "dyimlBglNdzp",
        "colab_type": "code",
        "colab": {}
      },
      "source": [
        "def get_hypotenuse(a, b):\n",
        "  return sqrt(a*a + b*b)"
      ],
      "execution_count": null,
      "outputs": []
    },
    {
      "cell_type": "code",
      "metadata": {
        "id": "a2jkAZ3eNfvv",
        "colab_type": "code",
        "colab": {}
      },
      "source": [
        "def get_cosine_law_angle(a, b, c):    \n",
        "  cos_gamma = (a*a + b*b - c*c) / (2*a*b)\n",
        "  sin_gamma = sqrt(1 - cos_gamma * cos_gamma)\n",
        "  gamma = atan2(sin_gamma, cos_gamma)\n",
        "\n",
        "  return gamma"
      ],
      "execution_count": null,
      "outputs": []
    },
    {
      "cell_type": "code",
      "metadata": {
        "id": "Vxzaz7qJef5Q",
        "colab_type": "code",
        "colab": {}
      },
      "source": [
        "def get_wrist_center(gripper_point, R0g, dg = 0.303):\n",
        "\n",
        "  xu, yu, zu = gripper_point \n",
        "    \n",
        "  nx, ny, nz = R0g[0, 2], R0g[1, 2], R0g[2, 2] #Need to modify\n",
        "  xw = xu - dg * nx\n",
        "  yw = yu - dg * ny\n",
        "  zw = zu - dg * nz \n",
        "\n",
        "  return xw, yw, zw"
      ],
      "execution_count": null,
      "outputs": []
    },
    {
      "cell_type": "code",
      "metadata": {
        "id": "Z_k5BbLPSJgU",
        "colab_type": "code",
        "colab": {}
      },
      "source": [
        "def get_first_three_angles(wrist_center):\n",
        "\n",
        "  x, y, z  = wrist_center\n",
        "    \n",
        "  # a1, a2, a3 = \n",
        "  # d1, d4 = \n",
        "  # l = \n",
        "  # phi = \n",
        "  \n",
        "  x_prime = get_hypotenuse(x, y)\n",
        "  mx = x_prime -  a1\n",
        "  my = z - d1 \n",
        "  m = get_hypotenuse(mx, my)\n",
        "  alpha = atan2(my, mx)\n",
        "  \n",
        "  gamma = get_cosine_law_angle(l, a2, m)\n",
        "  beta = get_cosine_law_angle(m, a2, l)\n",
        "  \n",
        "  q1 = atan2(y, x)\n",
        "  q2 = pi/2 - beta - alpha \n",
        "  q3 = -(gamma - phi)\n",
        "    \n",
        "  return q1, q2, q3"
      ],
      "execution_count": null,
      "outputs": []
    },
    {
      "cell_type": "code",
      "metadata": {
        "id": "psoUyZhvShcW",
        "colab_type": "code",
        "colab": {}
      },
      "source": [
        "def get_last_three_angles(R):\n",
        "#R = A36\n",
        "#  R36 = Matrix([\n",
        "    # [-sin(q4)*sin(q6) + cos(q4)*cos(q5)*cos(q6), -sin(q4)*cos(q6) - sin(q6)*cos(q4)*cos(q5), sin(q5)*cos(q4)],\n",
        "    # [ sin(q4)*cos(q5)*cos(q6) + sin(q6)*cos(q4), -sin(q4)*sin(q6)*cos(q5) + cos(q4)*cos(q6), sin(q4)*sin(q5)],\n",
        "    # [                          -sin(q5)*cos(q6),                            sin(q5)*sin(q6),         cos(q5)]])\n",
        "  sin_q4 = R[1, 2]\n",
        "  cos_q4 = R[0, 2]\n",
        "    \n",
        "  sin_q5 = sqrt(R[0, 2]**2 + R[1, 2]**2) \n",
        "  cos_q5 = R[2, 2]\n",
        "    \n",
        "  sin_q6 = R[2, 1]\n",
        "  cos_q6 = -R[2, 0] \n",
        "  \n",
        "  q4 = atan2(sin_q4, cos_q4)\n",
        "  q5 = atan2(sin_q5, cos_q5)\n",
        "  q6 = atan2(sin_q6, cos_q6)\n",
        "    \n",
        "  return q4, q5, q6"
      ],
      "execution_count": null,
      "outputs": []
    },
    {
      "cell_type": "code",
      "metadata": {
        "id": "2hSIJeB0Z4eX",
        "colab_type": "code",
        "colab": {}
      },
      "source": [
        "def get_angles(x, y, z, alpha, beta, gamma):\n",
        "  # input: given position and orientation of the gripper_URDF wrt base frame\n",
        "  # output: angles q1, q2, q3, q4, q5, q6\n",
        "    \n",
        "  gripper_point = x, y, z\n",
        "\n",
        "  q1, q2, q3, q4, q5, q6 = symbols('q1:7')\n",
        "  alpha, beta, gamma = symbols('alpha beta gamma', real = True)\n",
        "  px, py, pz = symbols('px py pz', real = True)\n",
        "\n",
        "  # Rotation of joint 3 wrt to the base frame interms the first three angles q1, q2, q3\n",
        "  R03 = Matrix([\n",
        "    [cos(q2 + q3)*cos(q1),  sin(q1), cos(q1)*sin(q2 + q3)],\n",
        "    [sin(q1)*cos(q2 + q3), -cos(q1), sin(q1)*sin(q2 + q3)],\n",
        "    [        sin(q2 + q3),        0,        -cos(q2 + q3)]])\n",
        "\n",
        "  # Transpose of R03 \n",
        "  R03T = Matrix([\n",
        "    [cos(q2 + q3)*cos(q1), sin(q1)*cos(q2 + q3),  sin(q2 + q3)],\n",
        "    [             sin(q1),             -cos(q1),             0],\n",
        "    [cos(q1)*sin(q2 + q3), sin(q1)*sin(q2 + q3), -cos(q2 + q3)]])\n",
        "\n",
        "  # Rotation of joint 6 wrt to frame of joint 3 interms of the last three angles q4, q5, q6\n",
        "  R36 = Matrix([\n",
        "    [-sin(q4)*sin(q6) + cos(q4)*cos(q5)*cos(q6), -sin(q4)*cos(q6) - sin(q6)*cos(q4)*cos(q5), sin(q5)*cos(q4)],\n",
        "    [ sin(q4)*cos(q5)*cos(q6) + sin(q6)*cos(q4), -sin(q4)*sin(q6)*cos(q5) + cos(q4)*cos(q6), sin(q4)*sin(q5)],\n",
        "    [                          -sin(q5)*cos(q6),                            sin(q5)*sin(q6),         cos(q5)]])\n",
        "\n",
        "  # Rotation of urdf_gripper with respect to the base frame interms of alpha , beta , gamma \n",
        "  R0u = Matrix([\n",
        "    [                                    cos(beta)*cos(gamma),                                    -cos(beta)*sin(gamma),             sin(beta)],\n",
        "    [ sin(alpha)*sin(beta)*cos(gamma) + sin(gamma)*cos(alpha), -sin(alpha)*sin(beta)*sin(gamma) + cos(alpha)*cos(gamma), -sin(alpha)*cos(beta)],\n",
        "    [-cos(alpha)*sin(beta)*cos(gamma) + sin(alpha)*sin(gamma),  cos(alpha)*sin(beta)*sin(gamma) + sin(alpha)*cos(gamma),  cos(alpha)*cos(beta)]])\n",
        "\n",
        "  # Total transform of gripper wrt to base frame given orientation  (alpha),  (beta),  (beta) and position px, py, pz\n",
        "  T0g_b = Matrix([\n",
        "    [                                    cos(beta)*cos(gamma),  -cos(beta)*sin(gamma),                                               sin(beta), px],\n",
        "    [ sin(alpha)*sin(beta)*cos(gamma) + sin(gamma)*cos(alpha), -sin(alpha)*sin(beta)*sin(gamma) + cos(alpha)*cos(gamma), -sin(alpha)*cos(beta), py],\n",
        "    [-cos(alpha)*sin(beta)*cos(gamma) + sin(alpha)*sin(gamma),  cos(alpha)*sin(beta)*sin(gamma) + sin(alpha)*cos(gamma),  cos(alpha)*cos(beta), pz],\n",
        "    [                                                       0,                                                        0,                     0,  1]])\n",
        "\n",
        "\n",
        "  # Inverse kinematics transformations starts below\n",
        "\n",
        "  R0u_eval = R0u.evalf(subs = {alpha: alpha, beta: beta, gamma: gamma})\n",
        "  # R0g_eval = R0u_eval * RguT_eval\n",
        "  R0g_eval = R0u_eval\n",
        "\n",
        "  wrist_center = get_wrist_center(gripper_point, R0g_eval, dg = 0.303) #Need to prepare dg\n",
        "\n",
        "  j1, j2, j3 = get_first_three_angles(wrist_center)\n",
        "\n",
        "  R03T_eval = R03T.evalf(subs = {q1: j1.evalf(), q2: j2.evalf(), q3: j3.evalf()})\n",
        "  R36_eval = R03T_eval * R0g_eval\n",
        "\n",
        "  j4, j5, j6 = get_last_three_angles(R36_eval)\n",
        "\n",
        "  j1 = j1.evalf()\n",
        "  j2 = j2.evalf()\n",
        "  j3 = j3.evalf()\n",
        "  j4 = j4.evalf()\n",
        "  j5 = j5.evalf()\n",
        "  j6 = j6.evalf()\n",
        "\n",
        "  return j1, j2, j3, j4, j5, j6"
      ],
      "execution_count": null,
      "outputs": []
    },
    {
      "cell_type": "code",
      "metadata": {
        "id": "7yXLvpeEg8PB",
        "colab_type": "code",
        "colab": {}
      },
      "source": [
        ""
      ],
      "execution_count": null,
      "outputs": []
    }
  ]
}