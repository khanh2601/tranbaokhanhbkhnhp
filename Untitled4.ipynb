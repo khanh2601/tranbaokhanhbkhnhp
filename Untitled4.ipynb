{
  "nbformat": 4,
  "nbformat_minor": 0,
  "metadata": {
    "colab": {
      "name": "Untitled4.ipynb",
      "provenance": [],
      "collapsed_sections": [],
      "authorship_tag": "ABX9TyOur2wb9bmP+7Ecuqp1TORZ",
      "include_colab_link": true
    },
    "kernelspec": {
      "name": "python3",
      "display_name": "Python 3"
    }
  },
  "cells": [
    {
      "cell_type": "markdown",
      "metadata": {
        "id": "view-in-github",
        "colab_type": "text"
      },
      "source": [
        "<a href=\"https://colab.research.google.com/github/khanh2601/tranbaokhanhbkhnhp/blob/master/Untitled4.ipynb\" target=\"_parent\"><img src=\"https://colab.research.google.com/assets/colab-badge.svg\" alt=\"Open In Colab\"/></a>"
      ]
    },
    {
      "cell_type": "code",
      "metadata": {
        "id": "dIp12_kMtQDz",
        "colab_type": "code",
        "colab": {}
      },
      "source": [
        "def output(M,ddq,clrt,dQ):\n",
        "  M1 = Mi(tenso1,Jr1,Jt1,m1)\n",
        "  M2 = Mi(tenso2,Jr2,Jt2,m2)\n",
        "  M3 = Mi(tenso3,Jr3,Jt3,m3)\n",
        "  M4 = Mi(tenso4,Jr4,Jt4,m4)\n",
        "\n",
        "  Q1=Qi(m1,g,r1)\n",
        "  Q2=Qi(m2,g,r2)\n",
        "  Q3=Qi(m3,g,r3)\n",
        "  Q4=Qi(m4,g,r4)\n",
        "  Q5=Qi(m5,g,r5)\n",
        "  Q6=Qi(m6,g,r6)\n",
        "\n",
        "  M = M1+M2+M3+M4\n",
        "  Q=Q1+Q2+Q3+Q4+Q5+Q6;\n",
        "\n",
        "  clrt=Matrix([[clr(0)],\n",
        "               [clr(1)],\n",
        "               [clr(2)],\n",
        "               [clr(3)],\n",
        "               [clr(4)],\n",
        "               [clr(5)]])\n",
        "\n",
        "  ddq=Matrix([[ddq(0)],\n",
        "              [ddq(1)],\n",
        "              [ddq(2)],\n",
        "              [ddq(3)],\n",
        "              [ddq(4)],\n",
        "              [ddq(5)]])\n",
        "\n",
        "  dQ=Matrix([[diff(Q,q1)],\n",
        "             [diff(Q,q2)],\n",
        "             [diff(Q,q3)],\n",
        "             [diff(Q,q4)],\n",
        "             [diff(Q,q5)],\n",
        "             [diff(Q,q6)]])\n",
        "  to=M*ddq+clrt+dQ;\n",
        "  return to"
      ],
      "execution_count": null,
      "outputs": []
    }
  ]
}